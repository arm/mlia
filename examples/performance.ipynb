{
 "cells": [
  {
   "cell_type": "markdown",
   "id": "48b4a2ee",
   "metadata": {},
   "source": [
    "# Performance estimation\n",
    "\n",
    "Inference advisor provides a way for estimating the performance for the given model and the selected target profile configuration. "
   ]
  },
  {
   "cell_type": "markdown",
   "id": "c3730235",
   "metadata": {},
   "source": [
    "## Setup execution context\n",
    "\n",
    "Execution context allows to provide a working directory which is being used for storing any temporary/intermediate files during execution (e.g. the optimized models)."
   ]
  },
  {
   "cell_type": "code",
   "execution_count": null,
   "id": "0687ea29",
   "metadata": {},
   "outputs": [],
   "source": [
    "from mlia.cli.common import ExecutionContext\n",
    "ctx = ExecutionContext(working_dir=\"mlia_output\")"
   ]
  },
  {
   "cell_type": "markdown",
   "id": "19365653",
   "metadata": {},
   "source": [
    "## Logging configuration\n",
    "\n",
    "MLIA uses the logging module from the python standard library to generate the output. Before using the API, the logging module should be properly configured.\n",
    "\n",
    "Function `setup_logging` of the module `mlia.cli.logging` accepts two parameters:\n",
    "\n",
    "- `logs_dir (optional)` - path to the directory where the application will save the logs with debug information. If the path is not provided then the log files will not be created during execution\n",
    "- `verbose (optional)` - enable extended logging\n",
    "\n",
    "It could be used like this:"
   ]
  },
  {
   "cell_type": "code",
   "execution_count": null,
   "id": "2d49417e",
   "metadata": {},
   "outputs": [],
   "source": [
    "from mlia.cli.logging import setup_logging\n",
    "\n",
    "setup_logging(ctx.logs_path, verbose=ctx.verbose)"
   ]
  },
  {
   "cell_type": "markdown",
   "id": "eb85c727",
   "metadata": {},
   "source": [
    "## Running the command `performance`\n",
    "\n",
    "\n",
    "The module `mlia.cli.commands` contains the MLIA API. Function `performance` of this module provides the actual performance estimation functionality:"
   ]
  },
  {
   "cell_type": "code",
   "execution_count": null,
   "id": "c41aacfa",
   "metadata": {},
   "outputs": [],
   "source": [
    "from mlia.cli.commands import performance"
   ]
  },
  {
   "cell_type": "markdown",
   "id": "32d5545b",
   "metadata": {},
   "source": [
    "A TFLite or a Keras model and target profile configuration are the main parameters expected by the function. Check the project documentation for more information on how to further configure the target profile."
   ]
  },
  {
   "cell_type": "code",
   "execution_count": null,
   "id": "533b4148",
   "metadata": {},
   "outputs": [],
   "source": [
    "model_path = \"../tests/test_resources/models/simple_mnist_convnet_non_quantized.tflite\"\n",
    "target = \"U55-256\""
   ]
  },
  {
   "cell_type": "markdown",
   "id": "e64f9254",
   "metadata": {},
   "source": [
    "The report produced by the command contains information about memory usage and NPU cycles"
   ]
  },
  {
   "cell_type": "code",
   "execution_count": null,
   "id": "bc4d2d96",
   "metadata": {},
   "outputs": [],
   "source": [
    "performance(ctx, target, model_path)"
   ]
  },
  {
   "cell_type": "markdown",
   "id": "c7e8be66",
   "metadata": {},
   "source": [
    "The function also supports output in the different formats, e.g. json (if the parameter output is not set then standard output will be used by default):"
   ]
  },
  {
   "cell_type": "code",
   "execution_count": null,
   "id": "cc5cb62a",
   "metadata": {},
   "outputs": [],
   "source": [
    "performance(ctx, target, model_path, output_format=\"json\")"
   ]
  }
 ],
 "metadata": {
  "kernelspec": {
   "display_name": "Python 3 (ipykernel)",
   "language": "python",
   "name": "python3"
  },
  "language_info": {
   "codemirror_mode": {
    "name": "ipython",
    "version": 3
   },
   "file_extension": ".py",
   "mimetype": "text/x-python",
   "name": "python",
   "nbconvert_exporter": "python",
   "pygments_lexer": "ipython3",
   "version": "3.8.12"
  }
 },
 "nbformat": 4,
 "nbformat_minor": 5
}
