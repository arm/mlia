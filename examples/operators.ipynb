{
 "cells": [
  {
   "cell_type": "markdown",
   "id": "c9807926",
   "metadata": {},
   "source": [
    "# Operators compatibility \n",
    "\n",
    "\n",
    "Operators compatibility is an important part of the successful and efficient execution of NN model on the target device. MLIA provides operators support information along with the reason why a particular operator could not be placed on the NPU. It also provides advice how to improve operators compatibility and suggests what other ways of optimization could be explored."
   ]
  },
  {
   "cell_type": "markdown",
   "id": "03aa6cae",
   "metadata": {},
   "source": [
    "## Logging configuration\n",
    "\n",
    "MLIA uses the logging module from the python standard library to generate the output. Before using the API, the logging module should be properly configured.\n",
    "\n",
    "Function `setup_logging` of the module `mlia.cli.logging` accepts two parameters:\n",
    "\n",
    "- `logs_dir (optional)` - path to the directory where the application will save the logs with debug information. If the path is not provided then the log files will not be created during execution\n",
    "- `verbose (optional)` - enable extended logging\n",
    "\n",
    "It could be used like this:"
   ]
  },
  {
   "cell_type": "code",
   "execution_count": null,
   "id": "e6906523",
   "metadata": {
    "scrolled": true
   },
   "outputs": [],
   "source": [
    "from mlia.cli.logging import setup_logging\n",
    "\n",
    "setup_logging(logs_dir='mlia_output', verbose=False)"
   ]
  },
  {
   "cell_type": "markdown",
   "id": "cc266a1b",
   "metadata": {},
   "source": [
    "## Running the command `operators`\n",
    "\n",
    "\n",
    "The module `mlia.cli.commands` contains the MLIA API. The function `operators` of this module provides the actual operator compatibility functionality:"
   ]
  },
  {
   "cell_type": "code",
   "execution_count": null,
   "id": "bed4e34a",
   "metadata": {},
   "outputs": [],
   "source": [
    "from mlia.cli.commands import operators"
   ]
  },
  {
   "cell_type": "markdown",
   "id": "a615a7a5",
   "metadata": {},
   "source": [
    "A TFLite or a Keras model and device configuration are the main parameters expected by the function. Check the project documentation for more information on how to further configure the target device"
   ]
  },
  {
   "cell_type": "code",
   "execution_count": null,
   "id": "7336f49c",
   "metadata": {},
   "outputs": [],
   "source": [
    "model_path = \"../tests/test_resources/models/simple_mnist_convnet_non_quantized.tflite\"\n",
    "device_args = {\"device\": \"ethos-u55\", \"mac\": 32}"
   ]
  },
  {
   "cell_type": "markdown",
   "metadata": {},
   "source": [
    "The function accepts a parameter `working_dir` that specifies the relative path where any temporary/intermediate files are stored during execution (e.g. the optimized models). Directory should exist before being passed as a parameter. If the parameter is not provided files will be stored in current working directory."
   ]
  },
  {
   "cell_type": "markdown",
   "id": "74e571b1",
   "metadata": {},
   "source": [
    "The report produced by the function contains the compatibility information for each operator in the provided model:"
   ]
  },
  {
   "cell_type": "code",
   "execution_count": null,
   "id": "0dc7ad0e",
   "metadata": {
    "scrolled": true
   },
   "outputs": [],
   "source": [
    "operators(model_path, **device_args)"
   ]
  },
  {
   "cell_type": "markdown",
   "id": "ff7d408b",
   "metadata": {},
   "source": [
    "The function also supports output in the different formats, e.g. json (if the parameter `output` is not set then standard output will be used by default):"
   ]
  },
  {
   "cell_type": "code",
   "execution_count": null,
   "id": "a086df5a",
   "metadata": {},
   "outputs": [],
   "source": [
    "operators(model_path, output_format=\"json\", **device_args)"
   ]
  },
  {
   "cell_type": "markdown",
   "id": "c19e74fe",
   "metadata": {},
   "source": [
    "## Generating 'Supported operators' report"
   ]
  },
  {
   "cell_type": "markdown",
   "id": "ec00a4e6",
   "metadata": {},
   "source": [
    "It might be useful to generate the \"Supported operators\" report to get general information about operators compatibility. This could be done by calling the function with the parameter `supported_ops_report` = True."
   ]
  },
  {
   "cell_type": "code",
   "execution_count": null,
   "id": "bdfda732",
   "metadata": {},
   "outputs": [],
   "source": [
    "operators(supported_ops_report=True)"
   ]
  },
  {
   "cell_type": "markdown",
   "id": "389d9996",
   "metadata": {},
   "source": [
    "A report file named SUPPORTED_OPS.md will be saved in current working directory"
   ]
  },
  {
   "cell_type": "code",
   "execution_count": null,
   "id": "6cf38dca",
   "metadata": {},
   "outputs": [],
   "source": [
    "import os\n",
    "cwd = os.getcwd()\n",
    "\n",
    "! ls $cwd"
   ]
  }
 ],
 "metadata": {
  "kernelspec": {
   "display_name": "Python 3 (ipykernel)",
   "language": "python",
   "name": "python3"
  },
  "language_info": {
   "codemirror_mode": {
    "name": "ipython",
    "version": 3
   },
   "file_extension": ".py",
   "mimetype": "text/x-python",
   "name": "python",
   "nbconvert_exporter": "python",
   "pygments_lexer": "ipython3",
   "version": "3.8.10"
  }
 },
 "nbformat": 4,
 "nbformat_minor": 5
}
