{
 "cells": [
  {
   "cell_type": "markdown",
   "id": "39306d66",
   "metadata": {},
   "source": [
    "# Generating full report\n",
    "\n",
    "The Inference advisor has a number of tools for analysing the model performance. The command `all_tests` uses all those tools and generates a full report on the model, along with a list of advice on possible improvements."
   ]
  },
  {
   "cell_type": "markdown",
   "id": "c3730235",
   "metadata": {},
   "source": [
    "## Setup execution context\n",
    "\n",
    "Execution context allows to provide a working directory which is being used for storing any temporary/intermediate files during execution (e.g. the optimized models)."
   ]
  },
  {
   "cell_type": "code",
   "execution_count": null,
   "id": "0687ea29",
   "metadata": {},
   "outputs": [],
   "source": [
    "from mlia.cli.common import ExecutionContext\n",
    "ctx = ExecutionContext(working_dir=\"mlia_output\")"
   ]
  },
  {
   "cell_type": "markdown",
   "id": "64169eea",
   "metadata": {},
   "source": [
    "## Logging configuration\n",
    "\n",
    "MLIA uses the logging module from the python standard library to generate the output. Before using the API, the logging module should be properly configured.\n",
    "\n",
    "Function `setup_logging` of the module `mlia.cli.logging` accepts two parameters:\n",
    "\n",
    "- `logs_dir (optional)` - path to the directory where the application will save the logs with debug information. If the path is not provided then the log files will not be created during execution\n",
    "- `verbose (optional)` - enable extended logging\n",
    "\n",
    "It could be used like this:"
   ]
  },
  {
   "cell_type": "code",
   "execution_count": null,
   "id": "78bbeb38",
   "metadata": {},
   "outputs": [],
   "source": [
    "from mlia.cli.logging import setup_logging\n",
    "\n",
    "setup_logging(ctx.logs_path, verbose=ctx.verbose)"
   ]
  },
  {
   "cell_type": "markdown",
   "id": "4dffbdab",
   "metadata": {},
   "source": [
    "## Running the command `all_tests`\n",
    "\n",
    "The module `mlia.cli.commands` contains the MLIA API. The function `all_tests` of this module could be used for generating full report with advice on how performance of the model could be improved"
   ]
  },
  {
   "cell_type": "code",
   "execution_count": null,
   "id": "6f49c75b",
   "metadata": {},
   "outputs": [],
   "source": [
    "from mlia.cli.commands import all_tests"
   ]
  },
  {
   "cell_type": "markdown",
   "id": "4df1cdbc",
   "metadata": {},
   "source": [
    "The command performs a number of steps in order to produce the final advice:\n",
    "\n",
    "- checks the operators compatibility on the selected target profile\n",
    "- applies the suggested model optimization techniques and compares the performance metrics of the optimized model with those of the original (non optimized) version of the model"
   ]
  },
  {
   "cell_type": "markdown",
   "id": "00323ecc",
   "metadata": {},
   "source": [
    "Keras model and target profile configuration are the main parameters expected by the function. Check the project documentation for more information on how to further configure the target profile"
   ]
  },
  {
   "cell_type": "code",
   "execution_count": null,
   "id": "3c002b5a",
   "metadata": {},
   "outputs": [],
   "source": [
    "model_path = \"../tests/test_resources/models/simple_mnist_convnet_non_quantized.h5\"\n",
    "target = \"U55-256\""
   ]
  },
  {
   "cell_type": "markdown",
   "id": "aa147d04",
   "metadata": {},
   "source": [
    "Applied optimizations controlled by the parameters:\n",
    "- `optimization_type` - list of the optimization techniques separated by the comma, e.g. 'pruning,clustering'\n",
    "- `optimization_target` - list of the corresponding targets for the provided optimization techniques, e.g. '0.5,32'\n",
    "\n",
    "The requested optimizations are applied for the all layers of the model"
   ]
  },
  {
   "cell_type": "markdown",
   "id": "aa19b6d4",
   "metadata": {},
   "source": [
    "For example, for applying pruning and clustering techniques these parameters could be set as"
   ]
  },
  {
   "cell_type": "code",
   "execution_count": null,
   "id": "54b5a91a",
   "metadata": {},
   "outputs": [],
   "source": [
    "optimization_type = \"pruning,clustering\"\n",
    "optimization_target = \"0.5,32\""
   ]
  },
  {
   "cell_type": "markdown",
   "id": "940fabed",
   "metadata": {},
   "source": [
    "The report produced by the command will contain information about operators compatibility and comparison of the performance metrics for the selected optimizations. It also will contain advice on further improvements."
   ]
  },
  {
   "cell_type": "code",
   "execution_count": null,
   "id": "ba7e499b",
   "metadata": {},
   "outputs": [],
   "source": [
    "all_tests(ctx, target, model_path, optimization_type, optimization_target)"
   ]
  },
  {
   "cell_type": "markdown",
   "id": "50fc4836",
   "metadata": {},
   "source": [
    "The function also supports output in the different formats, e.g. json (if the parameter output is not set then standard output will be used by default):"
   ]
  },
  {
   "cell_type": "code",
   "execution_count": null,
   "id": "dc762050",
   "metadata": {},
   "outputs": [],
   "source": [
    "all_tests(ctx, target, model_path, optimization_type, optimization_target, output_format=\"json\")"
   ]
  }
 ],
 "metadata": {
  "kernelspec": {
   "display_name": "Python 3 (ipykernel)",
   "language": "python",
   "name": "python3"
  },
  "language_info": {
   "codemirror_mode": {
    "name": "ipython",
    "version": 3
   },
   "file_extension": ".py",
   "mimetype": "text/x-python",
   "name": "python",
   "nbconvert_exporter": "python",
   "pygments_lexer": "ipython3",
   "version": "3.8.12"
  }
 },
 "nbformat": 4,
 "nbformat_minor": 5
}
