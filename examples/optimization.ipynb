{
 "cells": [
  {
   "cell_type": "markdown",
   "id": "39306d66",
   "metadata": {},
   "source": [
    "# Optimization\n",
    "\n",
    "One of the ways of improving execution performance is applying optimization techniques to the model. Inference advisor allows the user to optimize the model using pruning or clustering or the combination of them, after which it produces a report with the achieved performance metrics."
   ]
  },
    {
   "cell_type": "markdown",
   "id": "c3730235",
   "metadata": {},
   "source": [
    "## Setup execution context\n",
    "\n",
    "Execution context allows to provide a working directory which is being used for storing any temporary/intermediate files during execution (e.g. the optimized models)."
   ]
  },
  {
   "cell_type": "code",
   "execution_count": null,
   "id": "0687ea29",
   "metadata": {},
   "outputs": [],
   "source": [
    "from mlia.cli.common import ExecutionContext\n",
    "ctx = ExecutionContext(working_dir=\"mlia_output\")"
   ]
  },
  {
   "cell_type": "markdown",
   "id": "64169eea",
   "metadata": {},
   "source": [
    "## Logging configuration\n",
    "\n",
    "MLIA uses the logging module from the python standard library to generate the output. Before using the API, the logging module should be properly configured.\n",
    "\n",
    "Function `setup_logging` of the module `mlia.cli.logging` accepts two parameters:\n",
    "\n",
    "- `logs_dir (optional)` - path to the directory where the application will save the logs with debug information. If the path is not provided then the log files will not be created during execution\n",
    "- `verbose (optional)` - enable extended logging\n",
    "\n",
    "It could be used like this:"
   ]
  },
  {
   "cell_type": "code",
   "execution_count": null,
   "id": "78bbeb38",
   "metadata": {},
   "outputs": [],
   "source": [
    "from mlia.cli.logging import setup_logging\n",
    "\n",
    "setup_logging(ctx.logs_path, verbose=ctx.verbose)"
   ]
  },
  {
   "cell_type": "markdown",
   "id": "4dffbdab",
   "metadata": {},
   "source": [
    "## Running the command `optimization`\n",
    "\n",
    "The module `mlia.cli.commands` contains the MLIA API. Function `optimization` of this module shows the performance improvements (if any) after applying the optimizations."
   ]
  },
  {
   "cell_type": "code",
   "execution_count": null,
   "id": "6f49c75b",
   "metadata": {},
   "outputs": [],
   "source": [
    "from mlia.cli.commands import optimization"
   ]
  },
  {
   "cell_type": "markdown",
   "id": "00323ecc",
   "metadata": {},
   "source": [
    "A Keras model and device configuration are the main parameters expected by the function. Check the project documentation for more information on how to further configure the target device"
   ]
  },
  {
   "cell_type": "code",
   "execution_count": null,
   "id": "3c002b5a",
   "metadata": {},
   "outputs": [],
   "source": [
    "model_path = \"../tests/test_resources/models/simple_mnist_convnet_non_quantized.h5\"\n",
    "device_args = {\"device\": \"ethos-u55\", \"mac\": 32}"
   ]
  },
  {
   "cell_type": "markdown",
   "id": "aa147d04",
   "metadata": {},
   "source": [
    "The applied optimizations controlled by the parameters:\n",
    "- `optimization_type` - the optimization type, possible values - \"pruning\", \"clustering\"\n",
    "- `optimization_target` - the optimization target for the corresponding optimization type, for pruning, the accepted values range between 0 and 1 (e.g. 0.5), for clustering the accepted value is any integer number greater than zero (e.g. 32)\n",
    "- `layers_to_optimize` - list of the layers of the model which should be optimized, if None then all layers are used"
   ]
  },
  {
   "cell_type": "markdown",
   "id": "aa19b6d4",
   "metadata": {},
   "source": [
    "For example, for applying pruning with target 0.5 parameters should be configured as:"
   ]
  },
  {
   "cell_type": "code",
   "execution_count": null,
   "id": "54b5a91a",
   "metadata": {},
   "outputs": [],
   "source": [
    "optimization_type = \"pruning\"\n",
    "optimization_target = 0.5\n",
    "layers_to_optimize = None"
   ]
  },
  {
   "cell_type": "markdown",
   "id": "940fabed",
   "metadata": {},
   "source": [
    "The report produced by the command will contain a metrics comparison table for both the optimized and original models:"
   ]
  },
  {
   "cell_type": "code",
   "execution_count": null,
   "id": "ba7e499b",
   "metadata": {},
   "outputs": [],
   "source": [
    "optimization(ctx, model_path, optimization_type, optimization_target, layers_to_optimize, **device_args)"
   ]
  },
  {
   "cell_type": "markdown",
   "id": "2e3aa19f",
   "metadata": {},
   "source": [
    "Optimizations could be applied to the particular list of the layers:"
   ]
  },
  {
   "cell_type": "code",
   "execution_count": null,
   "id": "849e4642",
   "metadata": {},
   "outputs": [],
   "source": [
    "optimization_type = \"pruning\"\n",
    "optimization_target = 0.5\n",
    "layers_to_optimize = [\"conv2d_1\"]\n",
    "\n",
    "optimization(ctx, model_path, optimization_type, optimization_target, layers_to_optimize, **device_args)"
   ]
  },
  {
   "cell_type": "markdown",
   "id": "3c164d34",
   "metadata": {},
   "source": [
    "Similarly, the effects of clustering can be analysed:"
   ]
  },
  {
   "cell_type": "code",
   "execution_count": null,
   "id": "2667a7a0",
   "metadata": {},
   "outputs": [],
   "source": [
    "optimization_type = \"clustering\"\n",
    "optimization_target = 32\n",
    "layers_to_optimize = None\n",
    "\n",
    "optimization(ctx, model_path, optimization_type, optimization_target, layers_to_optimize, **device_args)"
   ]
  },
  {
   "cell_type": "markdown",
   "id": "50fc4836",
   "metadata": {},
   "source": [
    "The function also supports output in the different formats, e.g. json (if the parameter output is not set then standard output will be used by default):"
   ]
  },
  {
   "cell_type": "code",
   "execution_count": null,
   "id": "dc762050",
   "metadata": {},
   "outputs": [],
   "source": [
    "optimization(ctx, model_path, optimization_type, optimization_target, layers_to_optimize, output_format=\"json\", **device_args)"
   ]
  }
 ],
 "metadata": {
  "kernelspec": {
   "display_name": "Python 3 (ipykernel)",
   "language": "python",
   "name": "python3"
  },
  "language_info": {
   "codemirror_mode": {
    "name": "ipython",
    "version": 3
   },
   "file_extension": ".py",
   "mimetype": "text/x-python",
   "name": "python",
   "nbconvert_exporter": "python",
   "pygments_lexer": "ipython3",
   "version": "3.8.10"
  }
 },
 "nbformat": 4,
 "nbformat_minor": 5
}
