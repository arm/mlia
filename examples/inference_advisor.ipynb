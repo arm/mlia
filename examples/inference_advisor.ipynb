{
 "cells": [
  {
   "cell_type": "markdown",
   "id": "ef7b7dc4",
   "metadata": {},
   "source": [
    "# Inference advisor\n",
    "\n",
    "The ML Inference Advisor(MLIA) is a tool to help AI developers to design and optimize neural network models for\n",
    "efficient inference on Arm targets by enabling performance analysis and providing\n",
    "actionable advice early in the model development cycle.\n",
    "\n",
    "MLIA could be used as standalone application and as a Python library with an established API.\n",
    "The main goal of this notebook is to show the general use cases of the API. For running MLIA as an application please refer to the documentation."
   ]
  },
  {
   "cell_type": "markdown",
   "id": "4dc07bcd",
   "metadata": {},
   "source": [
    "## Initial setup\n",
    "\n",
    "Before launching MLIA, the logging functionality should be configured. The API uses standard Python `logging` module.\n",
    "The library comes with the helper function `setup_logging` with the following parameters:\n",
    "\n",
    "- `logs_dir` - directory that will be used for storing log files\n",
    "- `verbose` - enable verbose output\n",
    "\n",
    "The following code snippet will enable logging with the log directory `mlia_logs` and non verbose output:"
   ]
  },
  {
   "cell_type": "code",
   "execution_count": null,
   "id": "b3358655",
   "metadata": {
    "scrolled": false
   },
   "outputs": [],
   "source": [
    "from mlia.cli.logging import setup_logging\n",
    "\n",
    "logs_dir = \"mlia_logs\"\n",
    "verbose = False\n",
    "\n",
    "setup_logging(logs_dir, verbose)"
   ]
  },
  {
   "cell_type": "markdown",
   "id": "8fcb72c8",
   "metadata": {},
   "source": [
    "The main entry point of the API is a function `get_advice`. It takes several parameters as input arguments:\n",
    "\n",
    "- `profile` - name of the profile of the target device. MLIA comes with the number of predefined target profiles. Please refer to the documentation for more details.\n",
    "- `model` - path to the model\n",
    "- `category` - category of advice for MLIA to produce. MLIA supports 4 advice categories:\n",
    "    - `all` - uses all tools available in MLIA for producing the advice\n",
    "    - `operators` - focuses on operators compatibility aspects of the advice\n",
    "    - `optimization` - performs number of model optimizations and generates advice based on results\n",
    "    - `performance` - estimates model inference time and suggests ways of further improvements\n",
    "- `optimization_targets` - provides a way to explore effects of different model optimizations\n",
    "- `output` - path to the file where MLIA could save report. MLIA tries to figure out expected format of the report by looking on the extension of the provided file.\n",
    "- `working_dir` - path to the directory where MLIA will store intermediate files during execution, e.g. converted and optimized models"
   ]
  },
  {
   "cell_type": "code",
   "execution_count": null,
   "id": "659131c1",
   "metadata": {},
   "outputs": [],
   "source": [
    "from mlia.api import get_advice\n",
    "\n",
    "profile = \"U55-256\"\n",
    "model = \"../tests/test_resources/models/simple_model.h5\""
   ]
  },
  {
   "cell_type": "markdown",
   "id": "0762783d",
   "metadata": {},
   "source": [
    "If only `profile` and `model` are provided then MLIA will use the advice category `all`"
   ]
  },
  {
   "cell_type": "code",
   "execution_count": null,
   "id": "44239a27",
   "metadata": {
    "scrolled": false
   },
   "outputs": [],
   "source": [
    "get_advice(profile, model)"
   ]
  },
  {
   "cell_type": "markdown",
   "id": "2b61f026",
   "metadata": {},
   "source": [
    "If no optimization settings are provided MLIA will use the deafult ones:`[pruning: 0.5, clustering: 32]`. The `optimizations` parameter could be used for exploring different optimization options. In the following example model will be pruned with the target 0.5 and results will be written into `mlia_output.json` in JSON format"
   ]
  },
  {
   "cell_type": "code",
   "execution_count": null,
   "id": "9c99681d",
   "metadata": {
    "scrolled": false
   },
   "outputs": [],
   "source": [
    "optimizations = [\n",
    "    {\n",
    "        \"optimization_type\": \"pruning\",\n",
    "        \"optimization_target\": 0.5\n",
    "    }\n",
    "]\n",
    "\n",
    "get_advice(profile, model, \"all\", optimizations, output=\"mlia_output.json\")"
   ]
  },
  {
   "cell_type": "markdown",
   "id": "ddd65293",
   "metadata": {},
   "source": [
    "In a similar way other advice categories could be used. The next call will produce operator compatibility report"
   ]
  },
  {
   "cell_type": "code",
   "execution_count": null,
   "id": "7ab1b4e5",
   "metadata": {},
   "outputs": [],
   "source": [
    "get_advice(profile, model, category=\"operators\")"
   ]
  },
  {
   "cell_type": "markdown",
   "id": "a8ca06bc",
   "metadata": {},
   "source": [
    "`performance` category could be useful for highlighting model inference metrics on the target device"
   ]
  },
  {
   "cell_type": "code",
   "execution_count": null,
   "id": "4f5d0cdc",
   "metadata": {},
   "outputs": [],
   "source": [
    "get_advice(profile, model, category=\"performance\")"
   ]
  },
  {
   "cell_type": "markdown",
   "id": "7c3b7613",
   "metadata": {},
   "source": [
    "Parameter `optimizations` could also be used with the category `optimization`"
   ]
  },
  {
   "cell_type": "code",
   "execution_count": null,
   "id": "e3b3f0a1",
   "metadata": {
    "scrolled": false
   },
   "outputs": [],
   "source": [
    "get_advice(profile, model, \"optimization\", optimizations)"
   ]
  }
 ],
 "metadata": {
  "kernelspec": {
   "display_name": "Python 3 (ipykernel)",
   "language": "python",
   "name": "python3"
  },
  "language_info": {
   "codemirror_mode": {
    "name": "ipython",
    "version": 3
   },
   "file_extension": ".py",
   "mimetype": "text/x-python",
   "name": "python",
   "nbconvert_exporter": "python",
   "pygments_lexer": "ipython3",
   "version": "3.8.10"
  }
 },
 "nbformat": 4,
 "nbformat_minor": 5
}
